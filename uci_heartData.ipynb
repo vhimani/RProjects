{
 "cells": [
  {
   "cell_type": "markdown",
   "metadata": {},
   "source": [
    "# Exploring the UCI ML Repository: Heart Disease Dataset"
   ]
  },
  {
   "cell_type": "code",
   "execution_count": 50,
   "metadata": {},
   "outputs": [
    {
     "data": {
      "text/html": [
       "<table>\n",
       "<thead><tr><th scope=col>V1</th><th scope=col>V2</th><th scope=col>V3</th><th scope=col>V4</th><th scope=col>V5</th><th scope=col>V6</th><th scope=col>V7</th><th scope=col>V8</th><th scope=col>V9</th><th scope=col>V10</th><th scope=col>V11</th><th scope=col>V12</th><th scope=col>V13</th><th scope=col>V14</th></tr></thead>\n",
       "<tbody>\n",
       "\t<tr><td>63 </td><td>1  </td><td>1  </td><td>145</td><td>233</td><td>1  </td><td>2  </td><td>150</td><td>0  </td><td>2.3</td><td>3  </td><td>0.0</td><td>6.0</td><td>0  </td></tr>\n",
       "\t<tr><td>67 </td><td>1  </td><td>4  </td><td>160</td><td>286</td><td>0  </td><td>2  </td><td>108</td><td>1  </td><td>1.5</td><td>2  </td><td>3.0</td><td>3.0</td><td>2  </td></tr>\n",
       "\t<tr><td>67 </td><td>1  </td><td>4  </td><td>120</td><td>229</td><td>0  </td><td>2  </td><td>129</td><td>1  </td><td>2.6</td><td>2  </td><td>2.0</td><td>7.0</td><td>1  </td></tr>\n",
       "\t<tr><td>37 </td><td>1  </td><td>3  </td><td>130</td><td>250</td><td>0  </td><td>0  </td><td>187</td><td>0  </td><td>3.5</td><td>3  </td><td>0.0</td><td>3.0</td><td>0  </td></tr>\n",
       "\t<tr><td>41 </td><td>0  </td><td>2  </td><td>130</td><td>204</td><td>0  </td><td>2  </td><td>172</td><td>0  </td><td>1.4</td><td>1  </td><td>0.0</td><td>3.0</td><td>0  </td></tr>\n",
       "\t<tr><td>56 </td><td>1  </td><td>2  </td><td>120</td><td>236</td><td>0  </td><td>0  </td><td>178</td><td>0  </td><td>0.8</td><td>1  </td><td>0.0</td><td>3.0</td><td>0  </td></tr>\n",
       "</tbody>\n",
       "</table>\n"
      ],
      "text/latex": [
       "\\begin{tabular}{r|llllllllllllll}\n",
       " V1 & V2 & V3 & V4 & V5 & V6 & V7 & V8 & V9 & V10 & V11 & V12 & V13 & V14\\\\\n",
       "\\hline\n",
       "\t 63  & 1   & 1   & 145 & 233 & 1   & 2   & 150 & 0   & 2.3 & 3   & 0.0 & 6.0 & 0  \\\\\n",
       "\t 67  & 1   & 4   & 160 & 286 & 0   & 2   & 108 & 1   & 1.5 & 2   & 3.0 & 3.0 & 2  \\\\\n",
       "\t 67  & 1   & 4   & 120 & 229 & 0   & 2   & 129 & 1   & 2.6 & 2   & 2.0 & 7.0 & 1  \\\\\n",
       "\t 37  & 1   & 3   & 130 & 250 & 0   & 0   & 187 & 0   & 3.5 & 3   & 0.0 & 3.0 & 0  \\\\\n",
       "\t 41  & 0   & 2   & 130 & 204 & 0   & 2   & 172 & 0   & 1.4 & 1   & 0.0 & 3.0 & 0  \\\\\n",
       "\t 56  & 1   & 2   & 120 & 236 & 0   & 0   & 178 & 0   & 0.8 & 1   & 0.0 & 3.0 & 0  \\\\\n",
       "\\end{tabular}\n"
      ],
      "text/markdown": [
       "\n",
       "| V1 | V2 | V3 | V4 | V5 | V6 | V7 | V8 | V9 | V10 | V11 | V12 | V13 | V14 |\n",
       "|---|---|---|---|---|---|---|---|---|---|---|---|---|---|\n",
       "| 63  | 1   | 1   | 145 | 233 | 1   | 2   | 150 | 0   | 2.3 | 3   | 0.0 | 6.0 | 0   |\n",
       "| 67  | 1   | 4   | 160 | 286 | 0   | 2   | 108 | 1   | 1.5 | 2   | 3.0 | 3.0 | 2   |\n",
       "| 67  | 1   | 4   | 120 | 229 | 0   | 2   | 129 | 1   | 2.6 | 2   | 2.0 | 7.0 | 1   |\n",
       "| 37  | 1   | 3   | 130 | 250 | 0   | 0   | 187 | 0   | 3.5 | 3   | 0.0 | 3.0 | 0   |\n",
       "| 41  | 0   | 2   | 130 | 204 | 0   | 2   | 172 | 0   | 1.4 | 1   | 0.0 | 3.0 | 0   |\n",
       "| 56  | 1   | 2   | 120 | 236 | 0   | 0   | 178 | 0   | 0.8 | 1   | 0.0 | 3.0 | 0   |\n",
       "\n"
      ],
      "text/plain": [
       "  V1 V2 V3 V4  V5  V6 V7 V8  V9 V10 V11 V12 V13 V14\n",
       "1 63 1  1  145 233 1  2  150 0  2.3 3   0.0 6.0 0  \n",
       "2 67 1  4  160 286 0  2  108 1  1.5 2   3.0 3.0 2  \n",
       "3 67 1  4  120 229 0  2  129 1  2.6 2   2.0 7.0 1  \n",
       "4 37 1  3  130 250 0  0  187 0  3.5 3   0.0 3.0 0  \n",
       "5 41 0  2  130 204 0  2  172 0  1.4 1   0.0 3.0 0  \n",
       "6 56 1  2  120 236 0  0  178 0  0.8 1   0.0 3.0 0  "
      ]
     },
     "metadata": {},
     "output_type": "display_data"
    }
   ],
   "source": [
    "# Retrieve the data\n",
    "url <- \"http://archive.ics.uci.edu/ml/machine-learning-databases/heart-disease/processed.cleveland.data\"\n",
    "data <- read.csv(url, header=FALSE)\n",
    "head(data)"
   ]
  },
  {
   "cell_type": "markdown",
   "metadata": {},
   "source": [
    "The dataset above has 14 columns but no column names."
   ]
  },
  {
   "cell_type": "code",
   "execution_count": 51,
   "metadata": {},
   "outputs": [
    {
     "data": {
      "text/html": [
       "<table>\n",
       "<thead><tr><th scope=col>age</th><th scope=col>sex</th><th scope=col>cp</th><th scope=col>trestbps</th><th scope=col>chol</th><th scope=col>fbs</th><th scope=col>restecg</th><th scope=col>thalach</th><th scope=col>exang</th><th scope=col>oldpeak</th><th scope=col>slope</th><th scope=col>ca</th><th scope=col>thal</th><th scope=col>hd</th></tr></thead>\n",
       "<tbody>\n",
       "\t<tr><td>63 </td><td>1  </td><td>1  </td><td>145</td><td>233</td><td>1  </td><td>2  </td><td>150</td><td>0  </td><td>2.3</td><td>3  </td><td>0.0</td><td>6.0</td><td>0  </td></tr>\n",
       "\t<tr><td>67 </td><td>1  </td><td>4  </td><td>160</td><td>286</td><td>0  </td><td>2  </td><td>108</td><td>1  </td><td>1.5</td><td>2  </td><td>3.0</td><td>3.0</td><td>2  </td></tr>\n",
       "\t<tr><td>67 </td><td>1  </td><td>4  </td><td>120</td><td>229</td><td>0  </td><td>2  </td><td>129</td><td>1  </td><td>2.6</td><td>2  </td><td>2.0</td><td>7.0</td><td>1  </td></tr>\n",
       "\t<tr><td>37 </td><td>1  </td><td>3  </td><td>130</td><td>250</td><td>0  </td><td>0  </td><td>187</td><td>0  </td><td>3.5</td><td>3  </td><td>0.0</td><td>3.0</td><td>0  </td></tr>\n",
       "\t<tr><td>41 </td><td>0  </td><td>2  </td><td>130</td><td>204</td><td>0  </td><td>2  </td><td>172</td><td>0  </td><td>1.4</td><td>1  </td><td>0.0</td><td>3.0</td><td>0  </td></tr>\n",
       "\t<tr><td>56 </td><td>1  </td><td>2  </td><td>120</td><td>236</td><td>0  </td><td>0  </td><td>178</td><td>0  </td><td>0.8</td><td>1  </td><td>0.0</td><td>3.0</td><td>0  </td></tr>\n",
       "</tbody>\n",
       "</table>\n"
      ],
      "text/latex": [
       "\\begin{tabular}{r|llllllllllllll}\n",
       " age & sex & cp & trestbps & chol & fbs & restecg & thalach & exang & oldpeak & slope & ca & thal & hd\\\\\n",
       "\\hline\n",
       "\t 63  & 1   & 1   & 145 & 233 & 1   & 2   & 150 & 0   & 2.3 & 3   & 0.0 & 6.0 & 0  \\\\\n",
       "\t 67  & 1   & 4   & 160 & 286 & 0   & 2   & 108 & 1   & 1.5 & 2   & 3.0 & 3.0 & 2  \\\\\n",
       "\t 67  & 1   & 4   & 120 & 229 & 0   & 2   & 129 & 1   & 2.6 & 2   & 2.0 & 7.0 & 1  \\\\\n",
       "\t 37  & 1   & 3   & 130 & 250 & 0   & 0   & 187 & 0   & 3.5 & 3   & 0.0 & 3.0 & 0  \\\\\n",
       "\t 41  & 0   & 2   & 130 & 204 & 0   & 2   & 172 & 0   & 1.4 & 1   & 0.0 & 3.0 & 0  \\\\\n",
       "\t 56  & 1   & 2   & 120 & 236 & 0   & 0   & 178 & 0   & 0.8 & 1   & 0.0 & 3.0 & 0  \\\\\n",
       "\\end{tabular}\n"
      ],
      "text/markdown": [
       "\n",
       "| age | sex | cp | trestbps | chol | fbs | restecg | thalach | exang | oldpeak | slope | ca | thal | hd |\n",
       "|---|---|---|---|---|---|---|---|---|---|---|---|---|---|\n",
       "| 63  | 1   | 1   | 145 | 233 | 1   | 2   | 150 | 0   | 2.3 | 3   | 0.0 | 6.0 | 0   |\n",
       "| 67  | 1   | 4   | 160 | 286 | 0   | 2   | 108 | 1   | 1.5 | 2   | 3.0 | 3.0 | 2   |\n",
       "| 67  | 1   | 4   | 120 | 229 | 0   | 2   | 129 | 1   | 2.6 | 2   | 2.0 | 7.0 | 1   |\n",
       "| 37  | 1   | 3   | 130 | 250 | 0   | 0   | 187 | 0   | 3.5 | 3   | 0.0 | 3.0 | 0   |\n",
       "| 41  | 0   | 2   | 130 | 204 | 0   | 2   | 172 | 0   | 1.4 | 1   | 0.0 | 3.0 | 0   |\n",
       "| 56  | 1   | 2   | 120 | 236 | 0   | 0   | 178 | 0   | 0.8 | 1   | 0.0 | 3.0 | 0   |\n",
       "\n"
      ],
      "text/plain": [
       "  age sex cp trestbps chol fbs restecg thalach exang oldpeak slope ca  thal hd\n",
       "1 63  1   1  145      233  1   2       150     0     2.3     3     0.0 6.0  0 \n",
       "2 67  1   4  160      286  0   2       108     1     1.5     2     3.0 3.0  2 \n",
       "3 67  1   4  120      229  0   2       129     1     2.6     2     2.0 7.0  1 \n",
       "4 37  1   3  130      250  0   0       187     0     3.5     3     0.0 3.0  0 \n",
       "5 41  0   2  130      204  0   2       172     0     1.4     1     0.0 3.0  0 \n",
       "6 56  1   2  120      236  0   0       178     0     0.8     1     0.0 3.0  0 "
      ]
     },
     "metadata": {},
     "output_type": "display_data"
    }
   ],
   "source": [
    "# Assign column names\n",
    "colnames(data) <- c(\"age\",\n",
    "                    \"sex\",# 0 = female, 1 = male\n",
    "                    \"cp\", # chest pain\n",
    "                    # 1 = typical angina,\n",
    "                    # 2 = atypical angina,\n",
    "                    # 3 = non-anginal pain,\n",
    "                    # 4 = asymptomatic\n",
    "                    \"trestbps\", # resting blood pressure (in mm Hg)\n",
    "                    \"chol\", # serum cholestoral in mg/dl\n",
    "                    \"fbs\", # fasting blood sugar greater than 120 mg/dl, 1 = TRUE, 0 = FALSE\n",
    "                    \"restecg\", # resting electrocardiographic results\n",
    "                        # 1 = normal\n",
    "                    # 2 = having ST-T wave abnormality\n",
    "                    # 3 = showing probable or definite left ventricular hypertrophy\n",
    "                    \"thalach\", # maximum heart rate achieved\n",
    "                    \"exang\", # exercise induced angina, 1 = yes, 0 = no\n",
    "                    \"oldpeak\", # ST depression induced by exercise relative to rest\n",
    "                    \"slope\", # the slope of the peak exercise ST segment\n",
    "                    # 1 = upsloping\n",
    "                    # 2 = flat\n",
    "                    # 3 = downsloping\n",
    "                    \"ca\", # number of major vessels (0-3) colored by fluoroscopy\n",
    "                    \"thal\", # this is short of thalium heart scan\n",
    "                    # 3 = normal (no cold spots)\n",
    "                    # 6 = fixed defect (cold spots during rest and exercise)\n",
    "                    # 7 = reversible defect (when cold spots only appear during exercise)\n",
    "                    \"hd\" # (the predicted attribute) - diagnosis of heart disease\n",
    "                    # 0 if less than or equal to 50% diameter narrowing\n",
    "                    # 1 if greater than 50% diameter narrowing\n",
    "                    )\n",
    "head(data)"
   ]
  },
  {
   "cell_type": "markdown",
   "metadata": {},
   "source": [
    "Corresponding column names are now assigned. Next, I will check for any missing information and data type of each column."
   ]
  },
  {
   "cell_type": "code",
   "execution_count": 52,
   "metadata": {},
   "outputs": [
    {
     "name": "stdout",
     "output_type": "stream",
     "text": [
      "'data.frame':\t303 obs. of  14 variables:\n",
      " $ age     : num  63 67 67 37 41 56 62 57 63 53 ...\n",
      " $ sex     : num  1 1 1 1 0 1 0 0 1 1 ...\n",
      " $ cp      : num  1 4 4 3 2 2 4 4 4 4 ...\n",
      " $ trestbps: num  145 160 120 130 130 120 140 120 130 140 ...\n",
      " $ chol    : num  233 286 229 250 204 236 268 354 254 203 ...\n",
      " $ fbs     : num  1 0 0 0 0 0 0 0 0 1 ...\n",
      " $ restecg : num  2 2 2 0 2 0 2 0 2 2 ...\n",
      " $ thalach : num  150 108 129 187 172 178 160 163 147 155 ...\n",
      " $ exang   : num  0 1 1 0 0 0 0 1 0 1 ...\n",
      " $ oldpeak : num  2.3 1.5 2.6 3.5 1.4 0.8 3.6 0.6 1.4 3.1 ...\n",
      " $ slope   : num  3 2 2 3 1 1 3 1 2 3 ...\n",
      " $ ca      : Factor w/ 5 levels \"?\",\"0.0\",\"1.0\",..: 2 5 4 2 2 2 4 2 3 2 ...\n",
      " $ thal    : Factor w/ 4 levels \"?\",\"3.0\",\"6.0\",..: 3 2 4 2 2 2 2 2 4 4 ...\n",
      " $ hd      : int  0 2 1 0 0 0 3 0 2 1 ...\n"
     ]
    }
   ],
   "source": [
    "str(data)"
   ]
  },
  {
   "cell_type": "markdown",
   "metadata": {},
   "source": [
    "I need to process the data such that it replaces the missing values is NAs and converts each column to an appropriate data type."
   ]
  },
  {
   "cell_type": "code",
   "execution_count": 53,
   "metadata": {},
   "outputs": [],
   "source": [
    "# Replace,\"?\"s with NAs\n",
    "data[data == \"?\"] <- NA\n",
    " \n",
    "# Add factors for factor variables \n",
    "data[data$sex == 0,]$sex <- \"F\"\n",
    "data[data$sex == 1,]$sex <- \"M\"\n",
    "\n",
    "data$sex <- as.factor(data$sex)\n",
    "data$cp <- as.factor(data$cp) \n",
    "data$fbs <- as.factor(data$fbs) \n",
    "data$restecg <- as.factor(data$restecg)\n",
    "data$exang <- as.factor(data$exang) \n",
    "data$slope <- as.factor(data$slope)\n",
    " \n",
    "data$ca <- as.integer(data$ca) \n",
    "data$ca <- as.factor(data$ca) \n",
    " \n",
    "data$thal <- as.integer(data$thal)\n",
    "data$thal <- as.factor(data$thal)\n",
    " \n",
    "# Replace 0 and 1 with \"Healthy\" and \"Unhealthy\"\n",
    "data$hd <- ifelse(test=data$hd == 0, yes=\"Healthy\", no=\"Unhealthy\")\n",
    "data$hd <- as.factor(data$hd) "
   ]
  },
  {
   "cell_type": "code",
   "execution_count": 54,
   "metadata": {},
   "outputs": [
    {
     "name": "stdout",
     "output_type": "stream",
     "text": [
      "'data.frame':\t303 obs. of  14 variables:\n",
      " $ age     : num  63 67 67 37 41 56 62 57 63 53 ...\n",
      " $ sex     : Factor w/ 2 levels \"F\",\"M\": 2 2 2 2 1 2 1 1 2 2 ...\n",
      " $ cp      : Factor w/ 4 levels \"1\",\"2\",\"3\",\"4\": 1 4 4 3 2 2 4 4 4 4 ...\n",
      " $ trestbps: num  145 160 120 130 130 120 140 120 130 140 ...\n",
      " $ chol    : num  233 286 229 250 204 236 268 354 254 203 ...\n",
      " $ fbs     : Factor w/ 2 levels \"0\",\"1\": 2 1 1 1 1 1 1 1 1 2 ...\n",
      " $ restecg : Factor w/ 3 levels \"0\",\"1\",\"2\": 3 3 3 1 3 1 3 1 3 3 ...\n",
      " $ thalach : num  150 108 129 187 172 178 160 163 147 155 ...\n",
      " $ exang   : Factor w/ 2 levels \"0\",\"1\": 1 2 2 1 1 1 1 2 1 2 ...\n",
      " $ oldpeak : num  2.3 1.5 2.6 3.5 1.4 0.8 3.6 0.6 1.4 3.1 ...\n",
      " $ slope   : Factor w/ 3 levels \"1\",\"2\",\"3\": 3 2 2 3 1 1 3 1 2 3 ...\n",
      " $ ca      : Factor w/ 4 levels \"2\",\"3\",\"4\",\"5\": 1 4 3 1 1 1 3 1 2 1 ...\n",
      " $ thal    : Factor w/ 3 levels \"2\",\"3\",\"4\": 2 1 3 1 1 1 1 1 3 3 ...\n",
      " $ hd      : Factor w/ 2 levels \"Healthy\",\"Unhealthy\": 1 2 2 1 1 1 2 1 2 2 ...\n"
     ]
    }
   ],
   "source": [
    "str(data)"
   ]
  },
  {
   "cell_type": "markdown",
   "metadata": {},
   "source": [
    "I will now impute the missing values using the randomForest library."
   ]
  },
  {
   "cell_type": "code",
   "execution_count": 55,
   "metadata": {},
   "outputs": [
    {
     "name": "stdout",
     "output_type": "stream",
     "text": [
      "ntree      OOB      1      2\n",
      "  300:  19.14% 15.85% 23.02%\n",
      "ntree      OOB      1      2\n",
      "  300:  15.51% 11.59% 20.14%\n",
      "ntree      OOB      1      2\n",
      "  300:  18.81% 15.85% 22.30%\n",
      "ntree      OOB      1      2\n",
      "  300:  16.50% 11.59% 22.30%\n",
      "ntree      OOB      1      2\n",
      "  300:  17.16% 12.20% 23.02%\n",
      "ntree      OOB      1      2\n",
      "  300:  17.49% 14.02% 21.58%\n"
     ]
    }
   ],
   "source": [
    "options(warn=-1)\n",
    "library(randomForest)\n",
    "set.seed(123)\n",
    "data.imputed <- rfImpute(hd ~ ., data = data, iter=6)    # Run 6 iterations"
   ]
  },
  {
   "cell_type": "markdown",
   "metadata": {},
   "source": [
    "Random Forests uses bootstrapped data, and hence splits the data into \"training\" and \"test\" sets. The \"training\" dataset is the bootstrapped data and the \"test\" dataset is the remaining samples, also known as the \"Out-Of-Bag\" data."
   ]
  },
  {
   "cell_type": "code",
   "execution_count": 56,
   "metadata": {},
   "outputs": [],
   "source": [
    "# Split data into training and test sets\n",
    "set.seed(1234)\n",
    "train = sample(1:nrow(data.imputed),nrow(data.imputed)/2)\n",
    "test = -train\n",
    "training_data = data.imputed[train,]\n",
    "testing_data = data.imputed[test,]\n",
    "testing_hd = data.imputed$hd[test]"
   ]
  },
  {
   "cell_type": "markdown",
   "metadata": {},
   "source": [
    "I will construct both unpruned and pruned trees for the dataset, and check prediction accuracies for both."
   ]
  },
  {
   "cell_type": "code",
   "execution_count": 57,
   "metadata": {},
   "outputs": [
    {
     "data": {
      "image/png": "[encoded data removed]",
      "text/plain": [
       "plot without title"
      ]
     },
     "metadata": {},
     "output_type": "display_data"
    }
   ],
   "source": [
    "# Run a model for unpruned tree\n",
    "library(tree)\n",
    "tree_model = tree(hd~.,data=training_data)\n",
    "plot(tree_model)\n",
    "text(tree_model,pretty=0)  "
   ]
  },
  {
   "cell_type": "code",
   "execution_count": 58,
   "metadata": {},
   "outputs": [
    {
     "data": {
      "text/html": [
       "0.256578947368421"
      ],
      "text/latex": [
       "0.256578947368421"
      ],
      "text/markdown": [
       "0.256578947368421"
      ],
      "text/plain": [
       "[1] 0.2565789"
      ]
     },
     "metadata": {},
     "output_type": "display_data"
    }
   ],
   "source": [
    "# Check how the model is doing using the test data\n",
    "tree_predict = predict(tree_model, testing_data, type=\"class\")\n",
    "mean(tree_predict != testing_hd)"
   ]
  },
  {
   "cell_type": "markdown",
   "metadata": {},
   "source": [
    "The error rate is 25.66%."
   ]
  },
  {
   "cell_type": "code",
   "execution_count": 59,
   "metadata": {},
   "outputs": [
    {
     "data": {
      "text/plain": [
       "            testing_hd\n",
       "tree_predict Healthy Unhealthy\n",
       "   Healthy        74        30\n",
       "   Unhealthy       9        39"
      ]
     },
     "metadata": {},
     "output_type": "display_data"
    }
   ],
   "source": [
    "# Print the confusion Matrix\n",
    "table(tree_predict, testing_hd)"
   ]
  },
  {
   "cell_type": "code",
   "execution_count": 60,
   "metadata": {},
   "outputs": [
    {
     "data": {
      "text/html": [
       "0.75"
      ],
      "text/latex": [
       "0.75"
      ],
      "text/markdown": [
       "0.75"
      ],
      "text/plain": [
       "[1] 0.75"
      ]
     },
     "metadata": {},
     "output_type": "display_data"
    }
   ],
   "source": [
    "# Compute the prediction Accuracy\n",
    "(74+40)/(74+29+9+40)"
   ]
  },
  {
   "cell_type": "markdown",
   "metadata": {},
   "source": [
    "The prediction accuracy is 75%."
   ]
  },
  {
   "cell_type": "code",
   "execution_count": 61,
   "metadata": {},
   "outputs": [
    {
     "data": {
      "text/plain": [
       "$size\n",
       "[1] 15 11  8  6  4  2  1\n",
       "\n",
       "$dev\n",
       "[1] 42 43 43 40 39 31 70\n",
       "\n",
       "$k\n",
       "[1]       -Inf  0.0000000  0.3333333  1.0000000  1.5000000  3.0000000 40.0000000\n",
       "\n",
       "$method\n",
       "[1] \"misclass\"\n",
       "\n",
       "attr(,\"class\")\n",
       "[1] \"prune\"         \"tree.sequence\""
      ]
     },
     "metadata": {},
     "output_type": "display_data"
    }
   ],
   "source": [
    "set.seed(234789)\n",
    "cv.tree = cv.tree(tree_model,FUN=prune.misclass)\n",
    "cv.tree"
   ]
  },
  {
   "cell_type": "code",
   "execution_count": 62,
   "metadata": {},
   "outputs": [
    {
     "data": {
      "image/png": "[encoded data removed]",
      "text/plain": [
       "plot without title"
      ]
     },
     "metadata": {},
     "output_type": "display_data"
    }
   ],
   "source": [
    "plot(cv.tree$size, cv.tree$dev, type=\"b\")"
   ]
  },
  {
   "cell_type": "code",
   "execution_count": 63,
   "metadata": {},
   "outputs": [
    {
     "data": {
      "image/png": "[encoded data removed]",
      "text/plain": [
       "plot without title"
      ]
     },
     "metadata": {},
     "output_type": "display_data"
    }
   ],
   "source": [
    "# Prune the tree\n",
    "pruned_model = prune.misclass(tree_model, best=7)\n",
    "plot(pruned_model)\n",
    "text(pruned_model,pretty=0)"
   ]
  },
  {
   "cell_type": "code",
   "execution_count": 64,
   "metadata": {},
   "outputs": [
    {
     "data": {
      "text/html": [
       "0.177631578947368"
      ],
      "text/latex": [
       "0.177631578947368"
      ],
      "text/markdown": [
       "0.177631578947368"
      ],
      "text/plain": [
       "[1] 0.1776316"
      ]
     },
     "metadata": {},
     "output_type": "display_data"
    }
   ],
   "source": [
    "# Check how the model is doing on the test data\n",
    "tree_pred = predict(pruned_model, testing_data, type=\"class\")\n",
    "mean(tree_pred != testing_hd)"
   ]
  },
  {
   "cell_type": "markdown",
   "metadata": {},
   "source": [
    "The error rate is 17.76%."
   ]
  },
  {
   "cell_type": "code",
   "execution_count": 65,
   "metadata": {},
   "outputs": [
    {
     "data": {
      "text/plain": [
       "           testing_hd\n",
       "tree_pred   Healthy Unhealthy\n",
       "  Healthy        72        16\n",
       "  Unhealthy      11        53"
      ]
     },
     "metadata": {},
     "output_type": "display_data"
    }
   ],
   "source": [
    "# Print the confusion matrix\n",
    "table(tree_pred, testing_hd)"
   ]
  },
  {
   "cell_type": "code",
   "execution_count": 66,
   "metadata": {},
   "outputs": [
    {
     "data": {
      "text/html": [
       "0.822368421052632"
      ],
      "text/latex": [
       "0.822368421052632"
      ],
      "text/markdown": [
       "0.822368421052632"
      ],
      "text/plain": [
       "[1] 0.8223684"
      ]
     },
     "metadata": {},
     "output_type": "display_data"
    }
   ],
   "source": [
    "# Compute the prediction accuracy\n",
    "(72+53)/(72+16+11+53)"
   ]
  },
  {
   "cell_type": "markdown",
   "metadata": {},
   "source": [
    "The prediction accuracy is 82.24%."
   ]
  },
  {
   "cell_type": "markdown",
   "metadata": {},
   "source": [
    "The prediction accuracy is overall better with the pruned tree model as compared to the unpruned tree model."
   ]
  },
  {
   "cell_type": "markdown",
   "metadata": {},
   "source": [
    "We will now test other classification methods on the data: bagging and random forest."
   ]
  },
  {
   "cell_type": "code",
   "execution_count": 25,
   "metadata": {},
   "outputs": [
    {
     "data": {
      "text/html": [
       "0.190789473684211"
      ],
      "text/latex": [
       "0.190789473684211"
      ],
      "text/markdown": [
       "0.190789473684211"
      ],
      "text/plain": [
       "[1] 0.1907895"
      ]
     },
     "metadata": {},
     "output_type": "display_data"
    }
   ],
   "source": [
    "# Bagging\n",
    "set.seed(14)\n",
    "bag.data = randomForest(hd~., data=data.imputed, subset=train, mtry=13, importance=TRUE)\n",
    "bag_predict = predict(bag.data, testing_data, type=\"class\")\n",
    "mean(bag_predict != testing_hd)"
   ]
  },
  {
   "cell_type": "markdown",
   "metadata": {},
   "source": [
    "The error rate with bagging is 19.08%."
   ]
  },
  {
   "cell_type": "code",
   "execution_count": 67,
   "metadata": {},
   "outputs": [
    {
     "data": {
      "text/html": [
       "0.171052631578947"
      ],
      "text/latex": [
       "0.171052631578947"
      ],
      "text/markdown": [
       "0.171052631578947"
      ],
      "text/plain": [
       "[1] 0.1710526"
      ]
     },
     "metadata": {},
     "output_type": "display_data"
    }
   ],
   "source": [
    "# Random Forest\n",
    "set.seed(15)\n",
    "rf.data = randomForest(hd~., data=data.imputed, subset=train, mtry=4, importance=TRUE,proximity=TRUE)\n",
    "rf_predict = predict(rf.data, testing_data, type=\"class\")\n",
    "mean(rf_predict != testing_hd)"
   ]
  },
  {
   "cell_type": "markdown",
   "metadata": {},
   "source": [
    "The error rate with random forest is 17.1%."
   ]
  },
  {
   "cell_type": "markdown",
   "metadata": {},
   "source": [
    "I will now calculate the prediction error with each of the above methods."
   ]
  },
  {
   "cell_type": "code",
   "execution_count": 68,
   "metadata": {},
   "outputs": [
    {
     "data": {
      "text/html": [
       "<strong>OOB:</strong> 0.211920529801325"
      ],
      "text/latex": [
       "\\textbf{OOB:} 0.211920529801325"
      ],
      "text/markdown": [
       "**OOB:** 0.211920529801325"
      ],
      "text/plain": [
       "      OOB \n",
       "0.2119205 "
      ]
     },
     "metadata": {},
     "output_type": "display_data"
    }
   ],
   "source": [
    "# Bagging\n",
    "bag.data$err.rate[500,1]"
   ]
  },
  {
   "cell_type": "markdown",
   "metadata": {},
   "source": [
    "The OOB error rate for bagging is 21.19%."
   ]
  },
  {
   "cell_type": "code",
   "execution_count": 69,
   "metadata": {},
   "outputs": [
    {
     "data": {
      "text/html": [
       "<strong>OOB:</strong> 0.172185430463576"
      ],
      "text/latex": [
       "\\textbf{OOB:} 0.172185430463576"
      ],
      "text/markdown": [
       "**OOB:** 0.172185430463576"
      ],
      "text/plain": [
       "      OOB \n",
       "0.1721854 "
      ]
     },
     "metadata": {},
     "output_type": "display_data"
    }
   ],
   "source": [
    "# Random Forest\n",
    "rf.data$err.rate[500,1]"
   ]
  },
  {
   "cell_type": "markdown",
   "metadata": {},
   "source": [
    "The OOB error rate for random forest is 17.22%."
   ]
  },
  {
   "cell_type": "markdown",
   "metadata": {},
   "source": [
    "We will now compare error rates for Random Forest model OOB, healthy and unhealthy patients as a function of the number of trees."
   ]
  },
  {
   "cell_type": "code",
   "execution_count": 70,
   "metadata": {},
   "outputs": [
    {
     "data": {
      "image/png": "[encoded data removed]",
      "text/plain": [
       "plot without title"
      ]
     },
     "metadata": {},
     "output_type": "display_data"
    }
   ],
   "source": [
    "library(ggplot2)\n",
    "oob.error.data <- data.frame(Trees=rep(1:nrow(rf.data$err.rate), times=3),\n",
    "Type = rep(c(\"OOB\", \"No\", \"Yes\"), each=nrow(rf.data$err.rate)),\n",
    "Error = c(rf.data$err.rate[,\"OOB\"],\n",
    "rf.data$err.rate[,\"Unhealthy\"],\n",
    "rf.data$err.rate[,\"Healthy\"]))\n",
    "ggplot(data = oob.error.data, aes(x = Trees, y = Error)) + geom_line(aes(color = Type))"
   ]
  },
  {
   "cell_type": "markdown",
   "metadata": {},
   "source": [
    "I will now check the variable importance for each classification method."
   ]
  },
  {
   "cell_type": "code",
   "execution_count": 71,
   "metadata": {},
   "outputs": [
    {
     "data": {
      "image/png": "[encoded data removed]",
      "text/plain": [
       "plot without title"
      ]
     },
     "metadata": {},
     "output_type": "display_data"
    }
   ],
   "source": [
    "# Bagging\n",
    "varImpPlot(bag.data)"
   ]
  },
  {
   "cell_type": "code",
   "execution_count": 72,
   "metadata": {},
   "outputs": [
    {
     "data": {
      "image/png": "[encoded data removed]",
      "text/plain": [
       "plot without title"
      ]
     },
     "metadata": {},
     "output_type": "display_data"
    }
   ],
   "source": [
    "# Random Forest\n",
    "varImpPlot(rf.data)"
   ]
  },
  {
   "cell_type": "markdown",
   "metadata": {},
   "source": [
    "The variables thal (thalium heart scan), ca (number of major vessels colored by fluoroscopy), and cp (chest pain) are the most important at predicting CHD."
   ]
  },
  {
   "cell_type": "markdown",
   "metadata": {},
   "source": [
    "I will now use MDS in order to assess the clusters of healthy and unhealthy cases with PCA."
   ]
  },
  {
   "cell_type": "code",
   "execution_count": 73,
   "metadata": {},
   "outputs": [
    {
     "data": {
      "image/png": "[encoded data removed]",
      "text/plain": [
       "plot without title"
      ]
     },
     "metadata": {},
     "output_type": "display_data"
    }
   ],
   "source": [
    "MDSplot(rf.data, training_data$hd)"
   ]
  },
  {
   "cell_type": "markdown",
   "metadata": {},
   "source": [
    "I will further use the adaboosting model to check the performance of the data."
   ]
  },
  {
   "cell_type": "code",
   "execution_count": 74,
   "metadata": {},
   "outputs": [
    {
     "data": {
      "text/html": [
       "0.203947368421053"
      ],
      "text/latex": [
       "0.203947368421053"
      ],
      "text/markdown": [
       "0.203947368421053"
      ],
      "text/plain": [
       "[1] 0.2039474"
      ]
     },
     "metadata": {},
     "output_type": "display_data"
    }
   ],
   "source": [
    "# Adaboost\n",
    "library(fastAdaboost)\n",
    "test_adaboost <- adaboost(hd~., training_data, nIter=10)\n",
    "ad.pred <- predict(test_adaboost, newdata = testing_data)\n",
    "ad.pred$error"
   ]
  },
  {
   "cell_type": "markdown",
   "metadata": {},
   "source": [
    "The error rate is 20.39%."
   ]
  },
  {
   "cell_type": "code",
   "execution_count": 75,
   "metadata": {},
   "outputs": [
    {
     "data": {
      "text/plain": [
       "           Actual\n",
       "Predicted   Healthy Unhealthy\n",
       "  Healthy        70        18\n",
       "  Unhealthy      13        51"
      ]
     },
     "metadata": {},
     "output_type": "display_data"
    }
   ],
   "source": [
    "# Confusion matrix\n",
    "table1 <- table(Predicted = pred$class, Actual = testing_data$hd)\n",
    "table1"
   ]
  },
  {
   "cell_type": "code",
   "execution_count": 76,
   "metadata": {},
   "outputs": [
    {
     "data": {
      "text/html": [
       "0.796052631578947"
      ],
      "text/latex": [
       "0.796052631578947"
      ],
      "text/markdown": [
       "0.796052631578947"
      ],
      "text/plain": [
       "[1] 0.7960526"
      ]
     },
     "metadata": {},
     "output_type": "display_data"
    }
   ],
   "source": [
    "# Prediction Accuracy\n",
    "(70+51)/(70+18+13+51)"
   ]
  },
  {
   "cell_type": "markdown",
   "metadata": {},
   "source": [
    "The prediction accuracy is 79.6%."
   ]
  },
  {
   "cell_type": "markdown",
   "metadata": {},
   "source": [
    "Comparing all the models, i.e. unpruned tree, pruned tree, bagging, random forest, and adaboosting, I get the lowest error rate with random forest. It is fairly close to the prediction obtained from the pruned model. "
   ]
  }
 ],
 "metadata": {
  "kernelspec": {
   "display_name": "R",
   "language": "R",
   "name": "ir"
  },
  "language_info": {
   "codemirror_mode": "r",
   "file_extension": ".r",
   "mimetype": "text/x-r-source",
   "name": "R",
   "pygments_lexer": "r",
   "version": "3.6.1"
  }
 },
 "nbformat": 4,
 "nbformat_minor": 4
}
