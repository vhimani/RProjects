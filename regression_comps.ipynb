{
 "cells": [
  {
   "cell_type": "markdown",
   "metadata": {},
   "source": [
    "# Comparing Regression Methods"
   ]
  },
  {
   "cell_type": "markdown",
   "metadata": {},
   "source": [
    "In this notebook, I will compare the various regression methods (linear regression and penalized models, i.e. ridge and lasso) to predict hipcenter of the seatpos dataset with all other features as predictors. "
   ]
  },
  {
   "cell_type": "code",
   "execution_count": 20,
   "metadata": {},
   "outputs": [
    {
     "name": "stderr",
     "output_type": "stream",
     "text": [
      "The following objects are masked from seatpos (pos = 3):\n",
      "\n",
      "    Age, Arm, hipcenter, Ht, HtShoes, Leg, Seated, Thigh, Weight\n",
      "\n",
      "The following objects are masked from seatpos (pos = 4):\n",
      "\n",
      "    Age, Arm, hipcenter, Ht, HtShoes, Leg, Seated, Thigh, Weight\n",
      "\n",
      "The following objects are masked from seatpos (pos = 5):\n",
      "\n",
      "    Age, Arm, hipcenter, Ht, HtShoes, Leg, Seated, Thigh, Weight\n",
      "\n",
      "The following objects are masked from seatpos (pos = 10):\n",
      "\n",
      "    Age, Arm, hipcenter, Ht, HtShoes, Leg, Seated, Thigh, Weight\n",
      "\n"
     ]
    }
   ],
   "source": [
    "options(warn=-1)\n",
    "library(faraway)\n",
    "library(boot)\n",
    "library(glmnet)\n",
    "data(seatpos)\n",
    "attach(seatpos)"
   ]
  },
  {
   "cell_type": "code",
   "execution_count": 40,
   "metadata": {},
   "outputs": [
    {
     "data": {
      "text/plain": [
       "\n",
       "Call:\n",
       "lm(formula = hipcenter ~ ., data = seatpos)\n",
       "\n",
       "Residuals:\n",
       "    Min      1Q  Median      3Q     Max \n",
       "-73.827 -22.833  -3.678  25.017  62.337 \n",
       "\n",
       "Coefficients:\n",
       "             Estimate Std. Error t value Pr(>|t|)  \n",
       "(Intercept) 436.43213  166.57162   2.620   0.0138 *\n",
       "Age           0.77572    0.57033   1.360   0.1843  \n",
       "Weight        0.02631    0.33097   0.080   0.9372  \n",
       "HtShoes      -2.69241    9.75304  -0.276   0.7845  \n",
       "Ht            0.60134   10.12987   0.059   0.9531  \n",
       "Seated        0.53375    3.76189   0.142   0.8882  \n",
       "Arm          -1.32807    3.90020  -0.341   0.7359  \n",
       "Thigh        -1.14312    2.66002  -0.430   0.6706  \n",
       "Leg          -6.43905    4.71386  -1.366   0.1824  \n",
       "---\n",
       "Signif. codes:  0 '***' 0.001 '**' 0.01 '*' 0.05 '.' 0.1 ' ' 1\n",
       "\n",
       "Residual standard error: 37.72 on 29 degrees of freedom\n",
       "Multiple R-squared:  0.6866,\tAdjusted R-squared:  0.6001 \n",
       "F-statistic:  7.94 on 8 and 29 DF,  p-value: 1.306e-05\n"
      ]
     },
     "metadata": {},
     "output_type": "display_data"
    },
    {
     "data": {
      "text/html": [
       "32.9520319237643"
      ],
      "text/latex": [
       "32.9520319237643"
      ],
      "text/markdown": [
       "32.9520319237643"
      ],
      "text/plain": [
       "[1] 32.95203"
      ]
     },
     "metadata": {},
     "output_type": "display_data"
    }
   ],
   "source": [
    "# Linear regression\n",
    "lm.model <- lm(hipcenter~.,data=seatpos)\n",
    "summary(lm.model)"
   ]
  },
  {
   "cell_type": "code",
   "execution_count": 41,
   "metadata": {},
   "outputs": [
    {
     "data": {
      "text/html": [
       "32.9520319237643"
      ],
      "text/latex": [
       "32.9520319237643"
      ],
      "text/markdown": [
       "32.9520319237643"
      ],
      "text/plain": [
       "[1] 32.95203"
      ]
     },
     "metadata": {},
     "output_type": "display_data"
    }
   ],
   "source": [
    "# RMSE\n",
    "sqrt(mean(lm.model$residuals^2))"
   ]
  },
  {
   "cell_type": "markdown",
   "metadata": {},
   "source": [
    "About 68.66% of the total variation is explained by the linear regression model. The RMSE is 32.95. None of the variables are statistically significant except the intercept. When predictor variables in the same regression model are correlated, they cannot independently predict the value of the dependent variable. I will assess the collinearity by looking at the correlation matrix, VIF and index condition number."
   ]
  },
  {
   "cell_type": "code",
   "execution_count": 22,
   "metadata": {},
   "outputs": [
    {
     "data": {
      "text/html": [
       "<table>\n",
       "<thead><tr><th></th><th scope=col>Age</th><th scope=col>Weight</th><th scope=col>HtShoes</th><th scope=col>Ht</th><th scope=col>Seated</th><th scope=col>Arm</th><th scope=col>Thigh</th><th scope=col>Leg</th></tr></thead>\n",
       "<tbody>\n",
       "\t<tr><th scope=row>Age</th><td> 1.00</td><td>0.08 </td><td>-0.08</td><td>-0.09</td><td>-0.17</td><td>0.36 </td><td>0.09 </td><td>-0.04</td></tr>\n",
       "\t<tr><th scope=row>Weight</th><td> 0.08</td><td>1.00 </td><td> 0.83</td><td> 0.83</td><td> 0.78</td><td>0.70 </td><td>0.57 </td><td> 0.78</td></tr>\n",
       "\t<tr><th scope=row>HtShoes</th><td>-0.08</td><td>0.83 </td><td> 1.00</td><td> 1.00</td><td> 0.93</td><td>0.75 </td><td>0.72 </td><td> 0.91</td></tr>\n",
       "\t<tr><th scope=row>Ht</th><td>-0.09</td><td>0.83 </td><td> 1.00</td><td> 1.00</td><td> 0.93</td><td>0.75 </td><td>0.73 </td><td> 0.91</td></tr>\n",
       "\t<tr><th scope=row>Seated</th><td>-0.17</td><td>0.78 </td><td> 0.93</td><td> 0.93</td><td> 1.00</td><td>0.63 </td><td>0.61 </td><td> 0.81</td></tr>\n",
       "\t<tr><th scope=row>Arm</th><td> 0.36</td><td>0.70 </td><td> 0.75</td><td> 0.75</td><td> 0.63</td><td>1.00 </td><td>0.67 </td><td> 0.75</td></tr>\n",
       "\t<tr><th scope=row>Thigh</th><td> 0.09</td><td>0.57 </td><td> 0.72</td><td> 0.73</td><td> 0.61</td><td>0.67 </td><td>1.00 </td><td> 0.65</td></tr>\n",
       "\t<tr><th scope=row>Leg</th><td>-0.04</td><td>0.78 </td><td> 0.91</td><td> 0.91</td><td> 0.81</td><td>0.75 </td><td>0.65 </td><td> 1.00</td></tr>\n",
       "</tbody>\n",
       "</table>\n"
      ],
      "text/latex": [
       "\\begin{tabular}{r|llllllll}\n",
       "  & Age & Weight & HtShoes & Ht & Seated & Arm & Thigh & Leg\\\\\n",
       "\\hline\n",
       "\tAge &  1.00 & 0.08  & -0.08 & -0.09 & -0.17 & 0.36  & 0.09  & -0.04\\\\\n",
       "\tWeight &  0.08 & 1.00  &  0.83 &  0.83 &  0.78 & 0.70  & 0.57  &  0.78\\\\\n",
       "\tHtShoes & -0.08 & 0.83  &  1.00 &  1.00 &  0.93 & 0.75  & 0.72  &  0.91\\\\\n",
       "\tHt & -0.09 & 0.83  &  1.00 &  1.00 &  0.93 & 0.75  & 0.73  &  0.91\\\\\n",
       "\tSeated & -0.17 & 0.78  &  0.93 &  0.93 &  1.00 & 0.63  & 0.61  &  0.81\\\\\n",
       "\tArm &  0.36 & 0.70  &  0.75 &  0.75 &  0.63 & 1.00  & 0.67  &  0.75\\\\\n",
       "\tThigh &  0.09 & 0.57  &  0.72 &  0.73 &  0.61 & 0.67  & 1.00  &  0.65\\\\\n",
       "\tLeg & -0.04 & 0.78  &  0.91 &  0.91 &  0.81 & 0.75  & 0.65  &  1.00\\\\\n",
       "\\end{tabular}\n"
      ],
      "text/markdown": [
       "\n",
       "| <!--/--> | Age | Weight | HtShoes | Ht | Seated | Arm | Thigh | Leg |\n",
       "|---|---|---|---|---|---|---|---|---|\n",
       "| Age |  1.00 | 0.08  | -0.08 | -0.09 | -0.17 | 0.36  | 0.09  | -0.04 |\n",
       "| Weight |  0.08 | 1.00  |  0.83 |  0.83 |  0.78 | 0.70  | 0.57  |  0.78 |\n",
       "| HtShoes | -0.08 | 0.83  |  1.00 |  1.00 |  0.93 | 0.75  | 0.72  |  0.91 |\n",
       "| Ht | -0.09 | 0.83  |  1.00 |  1.00 |  0.93 | 0.75  | 0.73  |  0.91 |\n",
       "| Seated | -0.17 | 0.78  |  0.93 |  0.93 |  1.00 | 0.63  | 0.61  |  0.81 |\n",
       "| Arm |  0.36 | 0.70  |  0.75 |  0.75 |  0.63 | 1.00  | 0.67  |  0.75 |\n",
       "| Thigh |  0.09 | 0.57  |  0.72 |  0.73 |  0.61 | 0.67  | 1.00  |  0.65 |\n",
       "| Leg | -0.04 | 0.78  |  0.91 |  0.91 |  0.81 | 0.75  | 0.65  |  1.00 |\n",
       "\n"
      ],
      "text/plain": [
       "        Age   Weight HtShoes Ht    Seated Arm  Thigh Leg  \n",
       "Age      1.00 0.08   -0.08   -0.09 -0.17  0.36 0.09  -0.04\n",
       "Weight   0.08 1.00    0.83    0.83  0.78  0.70 0.57   0.78\n",
       "HtShoes -0.08 0.83    1.00    1.00  0.93  0.75 0.72   0.91\n",
       "Ht      -0.09 0.83    1.00    1.00  0.93  0.75 0.73   0.91\n",
       "Seated  -0.17 0.78    0.93    0.93  1.00  0.63 0.61   0.81\n",
       "Arm      0.36 0.70    0.75    0.75  0.63  1.00 0.67   0.75\n",
       "Thigh    0.09 0.57    0.72    0.73  0.61  0.67 1.00   0.65\n",
       "Leg     -0.04 0.78    0.91    0.91  0.81  0.75 0.65   1.00"
      ]
     },
     "metadata": {},
     "output_type": "display_data"
    }
   ],
   "source": [
    "# Correlations\n",
    "round(cor(seatpos[,-9]),2)"
   ]
  },
  {
   "cell_type": "code",
   "execution_count": 23,
   "metadata": {},
   "outputs": [
    {
     "data": {
      "text/html": [
       "<dl class=dl-horizontal>\n",
       "\t<dt>Age</dt>\n",
       "\t\t<dd>1.99793147706425</dd>\n",
       "\t<dt>Weight</dt>\n",
       "\t\t<dd>3.64703012881239</dd>\n",
       "\t<dt>HtShoes</dt>\n",
       "\t\t<dd>307.429378016734</dd>\n",
       "\t<dt>Ht</dt>\n",
       "\t\t<dd>333.13783238749</dd>\n",
       "\t<dt>Seated</dt>\n",
       "\t\t<dd>8.95105380156945</dd>\n",
       "\t<dt>Arm</dt>\n",
       "\t\t<dd>4.49636844261019</dd>\n",
       "\t<dt>Thigh</dt>\n",
       "\t\t<dd>2.76288552162384</dd>\n",
       "\t<dt>Leg</dt>\n",
       "\t\t<dd>6.69429122446836</dd>\n",
       "</dl>\n"
      ],
      "text/latex": [
       "\\begin{description*}\n",
       "\\item[Age] 1.99793147706425\n",
       "\\item[Weight] 3.64703012881239\n",
       "\\item[HtShoes] 307.429378016734\n",
       "\\item[Ht] 333.13783238749\n",
       "\\item[Seated] 8.95105380156945\n",
       "\\item[Arm] 4.49636844261019\n",
       "\\item[Thigh] 2.76288552162384\n",
       "\\item[Leg] 6.69429122446836\n",
       "\\end{description*}\n"
      ],
      "text/markdown": [
       "Age\n",
       ":   1.99793147706425Weight\n",
       ":   3.64703012881239HtShoes\n",
       ":   307.429378016734Ht\n",
       ":   333.13783238749Seated\n",
       ":   8.95105380156945Arm\n",
       ":   4.49636844261019Thigh\n",
       ":   2.76288552162384Leg\n",
       ":   6.69429122446836\n",
       "\n"
      ],
      "text/plain": [
       "       Age     Weight    HtShoes         Ht     Seated        Arm      Thigh \n",
       "  1.997931   3.647030 307.429378 333.137832   8.951054   4.496368   2.762886 \n",
       "       Leg \n",
       "  6.694291 "
      ]
     },
     "metadata": {},
     "output_type": "display_data"
    }
   ],
   "source": [
    "# VIF\n",
    "X=model.matrix(lm.model)[,-1]\n",
    "vif(X)"
   ]
  },
  {
   "cell_type": "code",
   "execution_count": 24,
   "metadata": {},
   "outputs": [
    {
     "data": {
      "text/html": [
       "<ol class=list-inline>\n",
       "\t<li>1</li>\n",
       "\t<li>13.0422601111745</li>\n",
       "\t<li>20.1003243449587</li>\n",
       "\t<li>110.551228816827</li>\n",
       "\t<li>156.911714782063</li>\n",
       "\t<li>212.156497045256</li>\n",
       "\t<li>261.666979688296</li>\n",
       "\t<li>707.549107203796</li>\n",
       "</ol>\n"
      ],
      "text/latex": [
       "\\begin{enumerate*}\n",
       "\\item 1\n",
       "\\item 13.0422601111745\n",
       "\\item 20.1003243449587\n",
       "\\item 110.551228816827\n",
       "\\item 156.911714782063\n",
       "\\item 212.156497045256\n",
       "\\item 261.666979688296\n",
       "\\item 707.549107203796\n",
       "\\end{enumerate*}\n"
      ],
      "text/markdown": [
       "1. 1\n",
       "2. 13.0422601111745\n",
       "3. 20.1003243449587\n",
       "4. 110.551228816827\n",
       "5. 156.911714782063\n",
       "6. 212.156497045256\n",
       "7. 261.666979688296\n",
       "8. 707.549107203796\n",
       "\n",
       "\n"
      ],
      "text/plain": [
       "[1]   1.00000  13.04226  20.10032 110.55123 156.91171 212.15650 261.66698\n",
       "[8] 707.54911"
      ]
     },
     "metadata": {},
     "output_type": "display_data"
    }
   ],
   "source": [
    "# Index condition number\n",
    "e = eigen(t(X)%*%X)\n",
    "sqrt(e$val[1]/e$val)"
   ]
  },
  {
   "cell_type": "markdown",
   "metadata": {},
   "source": [
    "There seems to be some evidences of multicollinearity in the model. From the correlation matrix, we can see that the correlation between the variables HtShoes and Ht is 1. These variables also seem to have a very high variance inflation factor (way greater than 10). The condition indices are also greater than 100, which indicates high multicollinearity. "
   ]
  },
  {
   "cell_type": "markdown",
   "metadata": {},
   "source": [
    "We will now update our model by stepwise dropping variables from our model."
   ]
  },
  {
   "cell_type": "code",
   "execution_count": 25,
   "metadata": {},
   "outputs": [
    {
     "name": "stdout",
     "output_type": "stream",
     "text": [
      "Start:  AIC=283.62\n",
      "hipcenter ~ Age + Weight + HtShoes + Ht + Seated + Arm + Thigh + \n",
      "    Leg\n",
      "\n",
      "          Df Sum of Sq   RSS    AIC\n",
      "- Ht       1      5.01 41267 281.63\n",
      "- Weight   1      8.99 41271 281.63\n",
      "- Seated   1     28.64 41290 281.65\n",
      "- HtShoes  1    108.43 41370 281.72\n",
      "- Arm      1    164.97 41427 281.78\n",
      "- Thigh    1    262.76 41525 281.87\n",
      "<none>                 41262 283.62\n",
      "- Age      1   2632.12 43894 283.97\n",
      "- Leg      1   2654.85 43917 283.99\n",
      "\n",
      "Step:  AIC=281.63\n",
      "hipcenter ~ Age + Weight + HtShoes + Seated + Arm + Thigh + Leg\n",
      "\n",
      "          Df Sum of Sq   RSS    AIC\n",
      "- Weight   1     11.10 41278 279.64\n",
      "- Seated   1     30.52 41297 279.66\n",
      "- Arm      1    160.50 41427 279.78\n",
      "- Thigh    1    269.08 41536 279.88\n",
      "- HtShoes  1    971.84 42239 280.51\n",
      "<none>                 41267 281.63\n",
      "- Leg      1   2664.65 43931 282.01\n",
      "- Age      1   2808.52 44075 282.13\n",
      "\n",
      "Step:  AIC=279.64\n",
      "hipcenter ~ Age + HtShoes + Seated + Arm + Thigh + Leg\n",
      "\n",
      "          Df Sum of Sq   RSS    AIC\n",
      "- Seated   1     35.10 41313 277.67\n",
      "- Arm      1    156.47 41434 277.78\n",
      "- Thigh    1    285.16 41563 277.90\n",
      "- HtShoes  1    975.48 42253 278.53\n",
      "<none>                 41278 279.64\n",
      "- Leg      1   2661.39 43939 280.01\n",
      "- Age      1   3011.86 44290 280.31\n",
      "\n",
      "Step:  AIC=277.67\n",
      "hipcenter ~ Age + HtShoes + Arm + Thigh + Leg\n",
      "\n",
      "          Df Sum of Sq   RSS    AIC\n",
      "- Arm      1    172.02 41485 275.83\n",
      "- Thigh    1    344.61 41658 275.99\n",
      "- HtShoes  1   1853.43 43166 277.34\n",
      "<none>                 41313 277.67\n",
      "- Leg      1   2871.07 44184 278.22\n",
      "- Age      1   2976.77 44290 278.31\n",
      "\n",
      "Step:  AIC=275.83\n",
      "hipcenter ~ Age + HtShoes + Thigh + Leg\n",
      "\n",
      "          Df Sum of Sq   RSS    AIC\n",
      "- Thigh    1     472.8 41958 274.26\n",
      "<none>                 41485 275.83\n",
      "- HtShoes  1    2340.7 43826 275.92\n",
      "- Age      1    3501.0 44986 276.91\n",
      "- Leg      1    3591.7 45077 276.98\n",
      "\n",
      "Step:  AIC=274.26\n",
      "hipcenter ~ Age + HtShoes + Leg\n",
      "\n",
      "          Df Sum of Sq   RSS    AIC\n",
      "<none>                 41958 274.26\n",
      "- Age      1    3108.8 45067 274.98\n",
      "- Leg      1    3476.3 45434 275.28\n",
      "- HtShoes  1    4218.6 46176 275.90\n"
     ]
    },
    {
     "data": {
      "text/plain": [
       "\n",
       "Call:\n",
       "lm(formula = hipcenter ~ Age + HtShoes + Leg, data = seatpos)\n",
       "\n",
       "Coefficients:\n",
       "(Intercept)          Age      HtShoes          Leg  \n",
       "   456.2137       0.5998      -2.3023      -6.8297  \n"
      ]
     },
     "metadata": {},
     "output_type": "display_data"
    }
   ],
   "source": [
    "step(lm.model)"
   ]
  },
  {
   "cell_type": "markdown",
   "metadata": {},
   "source": [
    "The model with the lowest AIC predicts hipcenter with age, htshoes, and leg as predictors. I will run a linear regression with these predictors."
   ]
  },
  {
   "cell_type": "code",
   "execution_count": 26,
   "metadata": {},
   "outputs": [
    {
     "data": {
      "text/plain": [
       "\n",
       "Call:\n",
       "lm(formula = hipcenter ~ Age + HtShoes + Leg)\n",
       "\n",
       "Residuals:\n",
       "    Min      1Q  Median      3Q     Max \n",
       "-79.269 -22.770  -4.342  21.853  60.907 \n",
       "\n",
       "Coefficients:\n",
       "            Estimate Std. Error t value Pr(>|t|)    \n",
       "(Intercept) 456.2137   102.8078   4.438 9.09e-05 ***\n",
       "Age           0.5998     0.3779   1.587   0.1217    \n",
       "HtShoes      -2.3023     1.2452  -1.849   0.0732 .  \n",
       "Leg          -6.8297     4.0693  -1.678   0.1024    \n",
       "---\n",
       "Signif. codes:  0 '***' 0.001 '**' 0.01 '*' 0.05 '.' 0.1 ' ' 1\n",
       "\n",
       "Residual standard error: 35.13 on 34 degrees of freedom\n",
       "Multiple R-squared:  0.6813,\tAdjusted R-squared:  0.6531 \n",
       "F-statistic: 24.22 on 3 and 34 DF,  p-value: 1.437e-08\n"
      ]
     },
     "metadata": {},
     "output_type": "display_data"
    }
   ],
   "source": [
    "lm.model1 <- lm(hipcenter ~ Age+HtShoes+Leg)\n",
    "summary(lm.model1)"
   ]
  },
  {
   "cell_type": "code",
   "execution_count": 42,
   "metadata": {},
   "outputs": [
    {
     "data": {
      "text/html": [
       "33.2287890122591"
      ],
      "text/latex": [
       "33.2287890122591"
      ],
      "text/markdown": [
       "33.2287890122591"
      ],
      "text/plain": [
       "[1] 33.22879"
      ]
     },
     "metadata": {},
     "output_type": "display_data"
    }
   ],
   "source": [
    "# RMSE\n",
    "sqrt(mean(lm.model1$residuals^2))"
   ]
  },
  {
   "cell_type": "markdown",
   "metadata": {},
   "source": [
    "The updated model explains 68.13% of the total variation. With the reduced model, the variable HtShoes is now significant at the 10% level. Since HtShoes and Ht were collinear, I will re-run the regression by replacing the variable with Ht to demonstrate that both variables yield the same result."
   ]
  },
  {
   "cell_type": "code",
   "execution_count": 27,
   "metadata": {},
   "outputs": [
    {
     "data": {
      "text/plain": [
       "\n",
       "Call:\n",
       "lm(formula = hipcenter ~ Age + Ht + Leg)\n",
       "\n",
       "Residuals:\n",
       "    Min      1Q  Median      3Q     Max \n",
       "-79.715 -22.758  -4.102  21.394  60.576 \n",
       "\n",
       "Coefficients:\n",
       "            Estimate Std. Error t value Pr(>|t|)    \n",
       "(Intercept) 452.1976   100.9482   4.480 8.04e-05 ***\n",
       "Age           0.5807     0.3790   1.532   0.1347    \n",
       "Ht           -2.3254     1.2545  -1.854   0.0725 .  \n",
       "Leg          -6.7390     4.1050  -1.642   0.1099    \n",
       "---\n",
       "Signif. codes:  0 '***' 0.001 '**' 0.01 '*' 0.05 '.' 0.1 ' ' 1\n",
       "\n",
       "Residual standard error: 35.12 on 34 degrees of freedom\n",
       "Multiple R-squared:  0.6814,\tAdjusted R-squared:  0.6533 \n",
       "F-statistic: 24.24 on 3 and 34 DF,  p-value: 1.426e-08\n"
      ]
     },
     "metadata": {},
     "output_type": "display_data"
    }
   ],
   "source": [
    "lm.model2 <- lm(hipcenter ~ Age+Ht+Leg)\n",
    "summary(lm.model2)"
   ]
  },
  {
   "cell_type": "markdown",
   "metadata": {},
   "source": [
    "The results for both lm.model1 and lm.model2 are comparable."
   ]
  },
  {
   "cell_type": "markdown",
   "metadata": {},
   "source": [
    "Next I will run the penalized regression models to the dataset."
   ]
  },
  {
   "cell_type": "code",
   "execution_count": 15,
   "metadata": {},
   "outputs": [],
   "source": [
    "# Split data into training and test sets\n",
    "train = 1:19\n",
    "test = -train\n",
    "training_data = seatpos[train,]\n",
    "testing_data = seatpos[test,]"
   ]
  },
  {
   "cell_type": "code",
   "execution_count": 43,
   "metadata": {},
   "outputs": [],
   "source": [
    "# Ridge regression\n",
    "grid = 10^seq(10, -2, length = 100)\n",
    "x <- model.matrix(hipcenter ~ ., data = training_data)\n",
    "y <- model.matrix(hipcenter ~ ., data = testing_data)\n",
    "z <- training_data$hipcenter\n",
    "cv.out1 = cv.glmnet(x,z,alpha=0)\n",
    "bestlam1 = cv.out1$lambda.min\n",
    "ridge.model <- glmnet(x, z, alpha = 0, lambda=0.1)\n",
    "ridge.pred <- predict(ridge.model, s = bestlam1, newx = y)"
   ]
  },
  {
   "cell_type": "code",
   "execution_count": 37,
   "metadata": {},
   "outputs": [
    {
     "data": {
      "text/html": [
       "<table>\n",
       "<thead><tr><th scope=col>RMSE</th><th scope=col>Rsquare</th></tr></thead>\n",
       "<tbody>\n",
       "\t<tr><td>48.21248 </td><td>0.4432344</td></tr>\n",
       "</tbody>\n",
       "</table>\n"
      ],
      "text/latex": [
       "\\begin{tabular}{r|ll}\n",
       " RMSE & Rsquare\\\\\n",
       "\\hline\n",
       "\t 48.21248  & 0.4432344\\\\\n",
       "\\end{tabular}\n"
      ],
      "text/markdown": [
       "\n",
       "| RMSE | Rsquare |\n",
       "|---|---|\n",
       "| 48.21248  | 0.4432344 |\n",
       "\n"
      ],
      "text/plain": [
       "  RMSE     Rsquare  \n",
       "1 48.21248 0.4432344"
      ]
     },
     "metadata": {},
     "output_type": "display_data"
    }
   ],
   "source": [
    "eval_results <- function(true, predicted, df) {\n",
    "  SSE <- sum((predicted - true)^2)\n",
    "  SST <- sum((true - mean(true))^2)\n",
    "  R_square <- 1 - SSE / SST\n",
    "  RMSE = sqrt(SSE/nrow(df))\n",
    "\n",
    "data.frame(\n",
    "  RMSE = RMSE,\n",
    "  Rsquare = R_square\n",
    ")}\n",
    "\n",
    "eval_results(testing_data$hipcenter, ridge.pred, testing_data)"
   ]
  },
  {
   "cell_type": "code",
   "execution_count": 38,
   "metadata": {},
   "outputs": [],
   "source": [
    "# Lasso regression\n",
    "x <- model.matrix(hipcenter ~ ., data = training_data)\n",
    "y <- model.matrix(hipcenter ~ ., data = testing_data)\n",
    "z <- training_data$hipcenter\n",
    "cv.out2 = cv.glmnet(x,z,alpha=0)\n",
    "bestlam2 = cv.out2$lambda.min\n",
    "lasso.model <- glmnet(x, z, alpha = 1,lambda=0.1)\n",
    "lasso.pred <- predict(lasso.model, s = bestlam2, newx = y)"
   ]
  },
  {
   "cell_type": "code",
   "execution_count": 39,
   "metadata": {},
   "outputs": [
    {
     "data": {
      "text/html": [
       "<table>\n",
       "<thead><tr><th scope=col>RMSE</th><th scope=col>Rsquare</th></tr></thead>\n",
       "<tbody>\n",
       "\t<tr><td>47.95326 </td><td>0.4492053</td></tr>\n",
       "</tbody>\n",
       "</table>\n"
      ],
      "text/latex": [
       "\\begin{tabular}{r|ll}\n",
       " RMSE & Rsquare\\\\\n",
       "\\hline\n",
       "\t 47.95326  & 0.4492053\\\\\n",
       "\\end{tabular}\n"
      ],
      "text/markdown": [
       "\n",
       "| RMSE | Rsquare |\n",
       "|---|---|\n",
       "| 47.95326  | 0.4492053 |\n",
       "\n"
      ],
      "text/plain": [
       "  RMSE     Rsquare  \n",
       "1 47.95326 0.4492053"
      ]
     },
     "metadata": {},
     "output_type": "display_data"
    }
   ],
   "source": [
    "eval_results(testing_data$hipcenter, lasso.pred, testing_data)"
   ]
  },
  {
   "cell_type": "markdown",
   "metadata": {},
   "source": [
    "The RMSE results for both ridge and lasso regressions are greater than OLS. The R-squared values are also lesser than that of OLS, indicating that the models explain less overall variability."
   ]
  },
  {
   "cell_type": "code",
   "execution_count": null,
   "metadata": {},
   "outputs": [],
   "source": []
  }
 ],
 "metadata": {
  "kernelspec": {
   "display_name": "R",
   "language": "R",
   "name": "ir"
  },
  "language_info": {
   "codemirror_mode": "r",
   "file_extension": ".r",
   "mimetype": "text/x-r-source",
   "name": "R",
   "pygments_lexer": "r",
   "version": "3.6.1"
  }
 },
 "nbformat": 4,
 "nbformat_minor": 4
}
