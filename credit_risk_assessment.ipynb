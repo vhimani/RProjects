{
 "cells": [
  {
   "cell_type": "markdown",
   "id": "5dfbfbe1",
   "metadata": {},
   "source": [
    "# Credit Risk Assessment"
   ]
  },
  {
   "cell_type": "markdown",
   "id": "6103766a",
   "metadata": {},
   "source": [
    "The dataset is obtained from Kaggle, and I have used Sarah Beshr's article on Towards Data Science as a reference."
   ]
  },
  {
   "cell_type": "code",
   "execution_count": 1,
   "id": "80095206",
   "metadata": {},
   "outputs": [],
   "source": [
    "# Read the dataset\n",
    "data = read.csv(\"credit_risk_dataset.csv\")"
   ]
  },
  {
   "cell_type": "code",
   "execution_count": 2,
   "id": "eadc29bc",
   "metadata": {},
   "outputs": [
    {
     "data": {
      "text/html": [
       "32581"
      ],
      "text/latex": [
       "32581"
      ],
      "text/markdown": [
       "32581"
      ],
      "text/plain": [
       "[1] 32581"
      ]
     },
     "metadata": {},
     "output_type": "display_data"
    }
   ],
   "source": [
    "# View total observations\n",
    "NROW(data)"
   ]
  },
  {
   "cell_type": "code",
   "execution_count": 3,
   "id": "3a514174",
   "metadata": {},
   "outputs": [
    {
     "data": {
      "text/html": [
       "<table>\n",
       "<thead><tr><th scope=col>person_age</th><th scope=col>person_income</th><th scope=col>person_home_ownership</th><th scope=col>person_emp_length</th><th scope=col>loan_intent</th><th scope=col>loan_grade</th><th scope=col>loan_amnt</th><th scope=col>loan_int_rate</th><th scope=col>loan_status</th><th scope=col>loan_percent_income</th><th scope=col>cb_person_default_on_file</th><th scope=col>cb_person_cred_hist_length</th></tr></thead>\n",
       "<tbody>\n",
       "\t<tr><td>22       </td><td>59000    </td><td>RENT     </td><td>123      </td><td>PERSONAL </td><td>D        </td><td>35000    </td><td>16.02    </td><td>1        </td><td>0.59     </td><td>Y        </td><td>3        </td></tr>\n",
       "\t<tr><td>21       </td><td> 9600    </td><td>OWN      </td><td>  5      </td><td>EDUCATION</td><td>B        </td><td> 1000    </td><td>11.14    </td><td>0        </td><td>0.10     </td><td>N        </td><td>2        </td></tr>\n",
       "\t<tr><td>25       </td><td> 9600    </td><td>MORTGAGE </td><td>  1      </td><td>MEDICAL  </td><td>C        </td><td> 5500    </td><td>12.87    </td><td>1        </td><td>0.57     </td><td>N        </td><td>3        </td></tr>\n",
       "\t<tr><td>23       </td><td>65500    </td><td>RENT     </td><td>  4      </td><td>MEDICAL  </td><td>C        </td><td>35000    </td><td>15.23    </td><td>1        </td><td>0.53     </td><td>N        </td><td>2        </td></tr>\n",
       "\t<tr><td>24       </td><td>54400    </td><td>RENT     </td><td>  8      </td><td>MEDICAL  </td><td>C        </td><td>35000    </td><td>14.27    </td><td>1        </td><td>0.55     </td><td>Y        </td><td>4        </td></tr>\n",
       "\t<tr><td>21       </td><td> 9900    </td><td>OWN      </td><td>  2      </td><td>VENTURE  </td><td>A        </td><td> 2500    </td><td> 7.14    </td><td>1        </td><td>0.25     </td><td>N        </td><td>2        </td></tr>\n",
       "</tbody>\n",
       "</table>\n"
      ],
      "text/latex": [
       "\\begin{tabular}{r|llllllllllll}\n",
       " person\\_age & person\\_income & person\\_home\\_ownership & person\\_emp\\_length & loan\\_intent & loan\\_grade & loan\\_amnt & loan\\_int\\_rate & loan\\_status & loan\\_percent\\_income & cb\\_person\\_default\\_on\\_file & cb\\_person\\_cred\\_hist\\_length\\\\\n",
       "\\hline\n",
       "\t 22        & 59000     & RENT      & 123       & PERSONAL  & D         & 35000     & 16.02     & 1         & 0.59      & Y         & 3        \\\\\n",
       "\t 21        &  9600     & OWN       &   5       & EDUCATION & B         &  1000     & 11.14     & 0         & 0.10      & N         & 2        \\\\\n",
       "\t 25        &  9600     & MORTGAGE  &   1       & MEDICAL   & C         &  5500     & 12.87     & 1         & 0.57      & N         & 3        \\\\\n",
       "\t 23        & 65500     & RENT      &   4       & MEDICAL   & C         & 35000     & 15.23     & 1         & 0.53      & N         & 2        \\\\\n",
       "\t 24        & 54400     & RENT      &   8       & MEDICAL   & C         & 35000     & 14.27     & 1         & 0.55      & Y         & 4        \\\\\n",
       "\t 21        &  9900     & OWN       &   2       & VENTURE   & A         &  2500     &  7.14     & 1         & 0.25      & N         & 2        \\\\\n",
       "\\end{tabular}\n"
      ],
      "text/markdown": [
       "\n",
       "| person_age | person_income | person_home_ownership | person_emp_length | loan_intent | loan_grade | loan_amnt | loan_int_rate | loan_status | loan_percent_income | cb_person_default_on_file | cb_person_cred_hist_length |\n",
       "|---|---|---|---|---|---|---|---|---|---|---|---|\n",
       "| 22        | 59000     | RENT      | 123       | PERSONAL  | D         | 35000     | 16.02     | 1         | 0.59      | Y         | 3         |\n",
       "| 21        |  9600     | OWN       |   5       | EDUCATION | B         |  1000     | 11.14     | 0         | 0.10      | N         | 2         |\n",
       "| 25        |  9600     | MORTGAGE  |   1       | MEDICAL   | C         |  5500     | 12.87     | 1         | 0.57      | N         | 3         |\n",
       "| 23        | 65500     | RENT      |   4       | MEDICAL   | C         | 35000     | 15.23     | 1         | 0.53      | N         | 2         |\n",
       "| 24        | 54400     | RENT      |   8       | MEDICAL   | C         | 35000     | 14.27     | 1         | 0.55      | Y         | 4         |\n",
       "| 21        |  9900     | OWN       |   2       | VENTURE   | A         |  2500     |  7.14     | 1         | 0.25      | N         | 2         |\n",
       "\n"
      ],
      "text/plain": [
       "  person_age person_income person_home_ownership person_emp_length loan_intent\n",
       "1 22         59000         RENT                  123               PERSONAL   \n",
       "2 21          9600         OWN                     5               EDUCATION  \n",
       "3 25          9600         MORTGAGE                1               MEDICAL    \n",
       "4 23         65500         RENT                    4               MEDICAL    \n",
       "5 24         54400         RENT                    8               MEDICAL    \n",
       "6 21          9900         OWN                     2               VENTURE    \n",
       "  loan_grade loan_amnt loan_int_rate loan_status loan_percent_income\n",
       "1 D          35000     16.02         1           0.59               \n",
       "2 B           1000     11.14         0           0.10               \n",
       "3 C           5500     12.87         1           0.57               \n",
       "4 C          35000     15.23         1           0.53               \n",
       "5 C          35000     14.27         1           0.55               \n",
       "6 A           2500      7.14         1           0.25               \n",
       "  cb_person_default_on_file cb_person_cred_hist_length\n",
       "1 Y                         3                         \n",
       "2 N                         2                         \n",
       "3 N                         3                         \n",
       "4 N                         2                         \n",
       "5 Y                         4                         \n",
       "6 N                         2                         "
      ]
     },
     "metadata": {},
     "output_type": "display_data"
    }
   ],
   "source": [
    "# View the head of the dataset \n",
    "head(data)"
   ]
  },
  {
   "cell_type": "code",
   "execution_count": 4,
   "id": "91c513ce",
   "metadata": {},
   "outputs": [
    {
     "data": {
      "text/plain": [
       "   person_age     person_income     person_home_ownership person_emp_length\n",
       " Min.   : 20.00   Min.   :   4000   MORTGAGE:13444        Min.   :  0.00   \n",
       " 1st Qu.: 23.00   1st Qu.:  38500   OTHER   :  107        1st Qu.:  2.00   \n",
       " Median : 26.00   Median :  55000   OWN     : 2584        Median :  4.00   \n",
       " Mean   : 27.73   Mean   :  66075   RENT    :16446        Mean   :  4.79   \n",
       " 3rd Qu.: 30.00   3rd Qu.:  79200                         3rd Qu.:  7.00   \n",
       " Max.   :144.00   Max.   :6000000                         Max.   :123.00   \n",
       "                                                          NA's   :895      \n",
       "            loan_intent   loan_grade   loan_amnt     loan_int_rate  \n",
       " DEBTCONSOLIDATION:5212   A:10777    Min.   :  500   Min.   : 5.42  \n",
       " EDUCATION        :6453   B:10451    1st Qu.: 5000   1st Qu.: 7.90  \n",
       " HOMEIMPROVEMENT  :3605   C: 6458    Median : 8000   Median :10.99  \n",
       " MEDICAL          :6071   D: 3626    Mean   : 9589   Mean   :11.01  \n",
       " PERSONAL         :5521   E:  964    3rd Qu.:12200   3rd Qu.:13.47  \n",
       " VENTURE          :5719   F:  241    Max.   :35000   Max.   :23.22  \n",
       "                          G:   64                    NA's   :3116   \n",
       "  loan_status     loan_percent_income cb_person_default_on_file\n",
       " Min.   :0.0000   Min.   :0.0000      N:26836                  \n",
       " 1st Qu.:0.0000   1st Qu.:0.0900      Y: 5745                  \n",
       " Median :0.0000   Median :0.1500                               \n",
       " Mean   :0.2182   Mean   :0.1702                               \n",
       " 3rd Qu.:0.0000   3rd Qu.:0.2300                               \n",
       " Max.   :1.0000   Max.   :0.8300                               \n",
       "                                                               \n",
       " cb_person_cred_hist_length\n",
       " Min.   : 2.000            \n",
       " 1st Qu.: 3.000            \n",
       " Median : 4.000            \n",
       " Mean   : 5.804            \n",
       " 3rd Qu.: 8.000            \n",
       " Max.   :30.000            \n",
       "                           "
      ]
     },
     "metadata": {},
     "output_type": "display_data"
    }
   ],
   "source": [
    "# View the summary of the dataset\n",
    "summary(data)"
   ]
  },
  {
   "cell_type": "markdown",
   "id": "739b180a",
   "metadata": {},
   "source": [
    "The dataset has 12 features for 32,581 borrowers identified in the dataset. The variables are described as follows:\n",
    "1. person_age: Quantitative variable for age of the borrower in years\n",
    "2. person_income: Quantitative variable for annual income of the borrower in USD\n",
    "3. person_home_ownership: Categorical variable for home ownership status - morgage, own, rent, and other\n",
    "4. person_emp_length: Quantitative variable for length of employment in years\n",
    "5. loan_intent: Categorical variable for reason for loan - debt consolidation, education, home improvement, medical, personal, and venture\n",
    "6. loan_grade: Categorical variable for loan grade - A through G\n",
    "7. loan_amt: Quantitative variable for amount of loan in USD\n",
    "8. loan_int_rate: Quantitative variable for loan interest rate in percentage\n",
    "9. loan_status: Dummy variable - 1 for default, 0 for no default\n",
    "10. loan_percent_income: Quantitative variable for loan as a percent of income\n",
    "11. cb_person_default_on_file: Dummy variable for default history\n",
    "12. cb_person_cred_hist_length: Quantitative variable for the length of credit history in years\n",
    "\n",
    "Among the above listed variables, I am interested in predicting the loan_status of the borrowers, so that will be the response variable through my analysis.\n",
    "I will next pre-process the dataset."
   ]
  },
  {
   "cell_type": "code",
   "execution_count": 5,
   "id": "e54ef13a",
   "metadata": {},
   "outputs": [
    {
     "name": "stdout",
     "output_type": "stream",
     "text": [
      "'data.frame':\t32581 obs. of  12 variables:\n",
      " $ person_age                : int  22 21 25 23 24 21 26 24 24 21 ...\n",
      " $ person_income             : int  59000 9600 9600 65500 54400 9900 77100 78956 83000 10000 ...\n",
      " $ person_home_ownership     : Factor w/ 4 levels \"MORTGAGE\",\"OTHER\",..: 4 3 1 4 4 3 4 4 4 3 ...\n",
      " $ person_emp_length         : num  123 5 1 4 8 2 8 5 8 6 ...\n",
      " $ loan_intent               : Factor w/ 6 levels \"DEBTCONSOLIDATION\",..: 5 2 4 4 4 6 2 4 5 6 ...\n",
      " $ loan_grade                : Factor w/ 7 levels \"A\",\"B\",\"C\",\"D\",..: 4 2 3 3 3 1 2 2 1 4 ...\n",
      " $ loan_amnt                 : int  35000 1000 5500 35000 35000 2500 35000 35000 35000 1600 ...\n",
      " $ loan_int_rate             : num  16 11.1 12.9 15.2 14.3 ...\n",
      " $ loan_status               : int  1 0 1 1 1 1 1 1 1 1 ...\n",
      " $ loan_percent_income       : num  0.59 0.1 0.57 0.53 0.55 0.25 0.45 0.44 0.42 0.16 ...\n",
      " $ cb_person_default_on_file : Factor w/ 2 levels \"N\",\"Y\": 2 1 1 1 2 1 1 1 1 1 ...\n",
      " $ cb_person_cred_hist_length: int  3 2 3 2 4 2 3 4 2 3 ...\n"
     ]
    }
   ],
   "source": [
    "str(data)"
   ]
  },
  {
   "cell_type": "code",
   "execution_count": 6,
   "id": "348fba9b",
   "metadata": {},
   "outputs": [
    {
     "data": {
      "image/png": "[encoded data removed]",
      "text/plain": [
       "plot without title"
      ]
     },
     "metadata": {},
     "output_type": "display_data"
    }
   ],
   "source": [
    "plot(data)"
   ]
  },
  {
   "cell_type": "code",
   "execution_count": 6,
   "id": "ef78ed27",
   "metadata": {},
   "outputs": [
    {
     "data": {
      "text/html": [
       "<dl>\n",
       "\t<dt>$person_age</dt>\n",
       "\t\t<dd>0</dd>\n",
       "\t<dt>$person_income</dt>\n",
       "\t\t<dd>0</dd>\n",
       "\t<dt>$person_home_ownership</dt>\n",
       "\t\t<dd>0</dd>\n",
       "\t<dt>$person_emp_length</dt>\n",
       "\t\t<dd>895</dd>\n",
       "\t<dt>$loan_intent</dt>\n",
       "\t\t<dd>0</dd>\n",
       "\t<dt>$loan_grade</dt>\n",
       "\t\t<dd>0</dd>\n",
       "\t<dt>$loan_amnt</dt>\n",
       "\t\t<dd>0</dd>\n",
       "\t<dt>$loan_int_rate</dt>\n",
       "\t\t<dd>3116</dd>\n",
       "\t<dt>$loan_status</dt>\n",
       "\t\t<dd>0</dd>\n",
       "\t<dt>$loan_percent_income</dt>\n",
       "\t\t<dd>0</dd>\n",
       "\t<dt>$cb_person_default_on_file</dt>\n",
       "\t\t<dd>0</dd>\n",
       "\t<dt>$cb_person_cred_hist_length</dt>\n",
       "\t\t<dd>0</dd>\n",
       "</dl>\n"
      ],
      "text/latex": [
       "\\begin{description}\n",
       "\\item[\\$person\\_age] 0\n",
       "\\item[\\$person\\_income] 0\n",
       "\\item[\\$person\\_home\\_ownership] 0\n",
       "\\item[\\$person\\_emp\\_length] 895\n",
       "\\item[\\$loan\\_intent] 0\n",
       "\\item[\\$loan\\_grade] 0\n",
       "\\item[\\$loan\\_amnt] 0\n",
       "\\item[\\$loan\\_int\\_rate] 3116\n",
       "\\item[\\$loan\\_status] 0\n",
       "\\item[\\$loan\\_percent\\_income] 0\n",
       "\\item[\\$cb\\_person\\_default\\_on\\_file] 0\n",
       "\\item[\\$cb\\_person\\_cred\\_hist\\_length] 0\n",
       "\\end{description}\n"
      ],
      "text/markdown": [
       "$person_age\n",
       ":   0\n",
       "$person_income\n",
       ":   0\n",
       "$person_home_ownership\n",
       ":   0\n",
       "$person_emp_length\n",
       ":   895\n",
       "$loan_intent\n",
       ":   0\n",
       "$loan_grade\n",
       ":   0\n",
       "$loan_amnt\n",
       ":   0\n",
       "$loan_int_rate\n",
       ":   3116\n",
       "$loan_status\n",
       ":   0\n",
       "$loan_percent_income\n",
       ":   0\n",
       "$cb_person_default_on_file\n",
       ":   0\n",
       "$cb_person_cred_hist_length\n",
       ":   0\n",
       "\n",
       "\n"
      ],
      "text/plain": [
       "$person_age\n",
       "[1] 0\n",
       "\n",
       "$person_income\n",
       "[1] 0\n",
       "\n",
       "$person_home_ownership\n",
       "[1] 0\n",
       "\n",
       "$person_emp_length\n",
       "[1] 895\n",
       "\n",
       "$loan_intent\n",
       "[1] 0\n",
       "\n",
       "$loan_grade\n",
       "[1] 0\n",
       "\n",
       "$loan_amnt\n",
       "[1] 0\n",
       "\n",
       "$loan_int_rate\n",
       "[1] 3116\n",
       "\n",
       "$loan_status\n",
       "[1] 0\n",
       "\n",
       "$loan_percent_income\n",
       "[1] 0\n",
       "\n",
       "$cb_person_default_on_file\n",
       "[1] 0\n",
       "\n",
       "$cb_person_cred_hist_length\n",
       "[1] 0\n"
      ]
     },
     "metadata": {},
     "output_type": "display_data"
    }
   ],
   "source": [
    "# Find the columns with missing values\n",
    "lapply(data,function(x) { length(which(is.na(x)))})"
   ]
  },
  {
   "cell_type": "code",
   "execution_count": 7,
   "id": "e8bd3cf8",
   "metadata": {},
   "outputs": [
    {
     "data": {
      "text/html": [
       "28638"
      ],
      "text/latex": [
       "28638"
      ],
      "text/markdown": [
       "28638"
      ],
      "text/plain": [
       "[1] 28638"
      ]
     },
     "metadata": {},
     "output_type": "display_data"
    }
   ],
   "source": [
    "# Remove rows with no observations\n",
    "data <- na.omit(data)\n",
    "NROW(data)"
   ]
  },
  {
   "cell_type": "code",
   "execution_count": 8,
   "id": "291ef732",
   "metadata": {},
   "outputs": [],
   "source": [
    "# Remove outliers\n",
    "data <- data[data$person_age <= 100,]\n",
    "data <- data[data$person_income <= 4000000,]\n",
    "data <- data[data$person_emp_length <= 100,]"
   ]
  },
  {
   "cell_type": "code",
   "execution_count": 9,
   "id": "8dd8b773",
   "metadata": {},
   "outputs": [
    {
     "data": {
      "text/plain": [
       "   person_age    person_income     person_home_ownership person_emp_length\n",
       " Min.   :20.00   Min.   :   4000   MORTGAGE:11798        Min.   : 0.00    \n",
       " 1st Qu.:23.00   1st Qu.:  39456   OTHER   :   94        1st Qu.: 2.00    \n",
       " Median :26.00   Median :  55900   OWN     : 2192        Median : 4.00    \n",
       " Mean   :27.71   Mean   :  66427   RENT    :14548        Mean   : 4.78    \n",
       " 3rd Qu.:30.00   3rd Qu.:  80000                         3rd Qu.: 7.00    \n",
       " Max.   :84.00   Max.   :2039784                         Max.   :41.00    \n",
       "                                                                          \n",
       "            loan_intent   loan_grade   loan_amnt     loan_int_rate  \n",
       " DEBTCONSOLIDATION:4565   A:9401     Min.   :  500   Min.   : 5.42  \n",
       " EDUCATION        :5702   B:9149     1st Qu.: 5000   1st Qu.: 7.90  \n",
       " HOMEIMPROVEMENT  :3198   C:5697     Median : 8000   Median :10.99  \n",
       " MEDICAL          :5293   D:3247     Mean   : 9655   Mean   :11.04  \n",
       " PERSONAL         :4875   E: 870     3rd Qu.:12500   3rd Qu.:13.48  \n",
       " VENTURE          :4999   F: 209     Max.   :35000   Max.   :23.22  \n",
       "                          G:  59                                    \n",
       "  loan_status     loan_percent_income cb_person_default_on_file\n",
       " Min.   :0.0000   Min.   :0.0000      N:23530                  \n",
       " 1st Qu.:0.0000   1st Qu.:0.0900      Y: 5102                  \n",
       " Median :0.0000   Median :0.1500                               \n",
       " Mean   :0.2166   Mean   :0.1695                               \n",
       " 3rd Qu.:0.0000   3rd Qu.:0.2300                               \n",
       " Max.   :1.0000   Max.   :0.8300                               \n",
       "                                                               \n",
       " cb_person_cred_hist_length\n",
       " Min.   : 2.000            \n",
       " 1st Qu.: 3.000            \n",
       " Median : 4.000            \n",
       " Mean   : 5.794            \n",
       " 3rd Qu.: 8.000            \n",
       " Max.   :30.000            \n",
       "                           "
      ]
     },
     "metadata": {},
     "output_type": "display_data"
    }
   ],
   "source": [
    "summary(data)"
   ]
  },
  {
   "cell_type": "code",
   "execution_count": 11,
   "id": "806bee28",
   "metadata": {},
   "outputs": [
    {
     "data": {
      "image/png": "[encoded data removed]",
      "text/plain": [
       "plot without title"
      ]
     },
     "metadata": {},
     "output_type": "display_data"
    }
   ],
   "source": [
    "plot(data)"
   ]
  },
  {
   "cell_type": "markdown",
   "id": "493fc99e",
   "metadata": {},
   "source": [
    "The logit model explains 35.8% of the variability. Loan_status is explained as a combination of the following variables: age, income, home ownership status, loan intent, loan grade, loan amount, loan interest rate, and loan percent income. I see that historical default statuses and credit length aren't significant."
   ]
  },
  {
   "cell_type": "code",
   "execution_count": 10,
   "id": "9dfcf3a1",
   "metadata": {},
   "outputs": [],
   "source": [
    "# Spliting data into training and test sets\n",
    "set.seed(6)\n",
    "train=sample(1:nrow(data),nrow(data)/2)\n",
    "test=-train\n",
    "training_data=data[train,]\n",
    "testing_data=data[test,]"
   ]
  },
  {
   "cell_type": "markdown",
   "id": "d8b41124",
   "metadata": {},
   "source": [
    "I will apply classification methods on training sets, and check the prediction accuracy on the test sets."
   ]
  },
  {
   "cell_type": "code",
   "execution_count": 11,
   "id": "fce19869",
   "metadata": {},
   "outputs": [
    {
     "data": {
      "text/html": [
       "0.099726844513821"
      ],
      "text/latex": [
       "0.099726844513821"
      ],
      "text/markdown": [
       "0.099726844513821"
      ],
      "text/plain": [
       "[1] 0.09972684"
      ]
     },
     "metadata": {},
     "output_type": "display_data"
    }
   ],
   "source": [
    "# Logistic Regression\n",
    "set.seed(8)\n",
    "logit.fit <- glm(loan_status~., data = training_data, family=binomial)\n",
    "logit.pred <-  predict(logit.fit, testing_data, type=\"response\")\n",
    "mean((logit.pred - testing_data$loan_status)^2)"
   ]
  },
  {
   "cell_type": "code",
   "execution_count": 12,
   "id": "f98be3fe",
   "metadata": {},
   "outputs": [
    {
     "data": {
      "text/html": [
       "0.348341872730885"
      ],
      "text/latex": [
       "0.348341872730885"
      ],
      "text/markdown": [
       "0.348341872730885"
      ],
      "text/plain": [
       "[1] 0.3483419"
      ]
     },
     "metadata": {},
     "output_type": "display_data"
    }
   ],
   "source": [
    "# Calculate R-squared of the logit model\n",
    "r2Log <- function(model) {\n",
    "  summaryLog <- summary(logit.fit)\n",
    "  1 - summaryLog$deviance / summaryLog$null.deviance\n",
    "}\n",
    "r2Log(logit.fit)"
   ]
  },
  {
   "cell_type": "markdown",
   "id": "5dd41ef8",
   "metadata": {},
   "source": [
    "The error rate yielded by the logistic regression is 9.97%. The logit model explains 34.83% of total variation in the response."
   ]
  },
  {
   "cell_type": "code",
   "execution_count": 13,
   "id": "1e6637f6",
   "metadata": {},
   "outputs": [
    {
     "name": "stderr",
     "output_type": "stream",
     "text": [
      "Loading required package: carData\n"
     ]
    },
    {
     "data": {
      "text/html": [
       "<table>\n",
       "<thead><tr><th></th><th scope=col>GVIF</th><th scope=col>Df</th><th scope=col>GVIF^(1/(2*Df))</th></tr></thead>\n",
       "<tbody>\n",
       "\t<tr><th scope=row>person_age</th><td> 4.313480</td><td>1        </td><td>2.076892 </td></tr>\n",
       "\t<tr><th scope=row>person_income</th><td> 1.549668</td><td>1        </td><td>1.244857 </td></tr>\n",
       "\t<tr><th scope=row>person_home_ownership</th><td> 1.184225</td><td>3        </td><td>1.028582 </td></tr>\n",
       "\t<tr><th scope=row>person_emp_length</th><td> 1.083823</td><td>1        </td><td>1.041068 </td></tr>\n",
       "\t<tr><th scope=row>loan_intent</th><td> 1.083541</td><td>5        </td><td>1.008056 </td></tr>\n",
       "\t<tr><th scope=row>loan_grade</th><td>12.808077</td><td>6        </td><td>1.236774 </td></tr>\n",
       "\t<tr><th scope=row>loan_amnt</th><td> 2.486671</td><td>1        </td><td>1.576918 </td></tr>\n",
       "\t<tr><th scope=row>loan_int_rate</th><td> 9.781644</td><td>1        </td><td>3.127562 </td></tr>\n",
       "\t<tr><th scope=row>loan_percent_income</th><td> 2.480857</td><td>1        </td><td>1.575074 </td></tr>\n",
       "\t<tr><th scope=row>cb_person_default_on_file</th><td> 1.542492</td><td>1        </td><td>1.241971 </td></tr>\n",
       "\t<tr><th scope=row>cb_person_cred_hist_length</th><td> 4.249099</td><td>1        </td><td>2.061334 </td></tr>\n",
       "</tbody>\n",
       "</table>\n"
      ],
      "text/latex": [
       "\\begin{tabular}{r|lll}\n",
       "  & GVIF & Df & GVIF\\textasciicircum{}(1/(2*Df))\\\\\n",
       "\\hline\n",
       "\tperson\\_age &  4.313480 & 1         & 2.076892 \\\\\n",
       "\tperson\\_income &  1.549668 & 1         & 1.244857 \\\\\n",
       "\tperson\\_home\\_ownership &  1.184225 & 3         & 1.028582 \\\\\n",
       "\tperson\\_emp\\_length &  1.083823 & 1         & 1.041068 \\\\\n",
       "\tloan\\_intent &  1.083541 & 5         & 1.008056 \\\\\n",
       "\tloan\\_grade & 12.808077 & 6         & 1.236774 \\\\\n",
       "\tloan\\_amnt &  2.486671 & 1         & 1.576918 \\\\\n",
       "\tloan\\_int\\_rate &  9.781644 & 1         & 3.127562 \\\\\n",
       "\tloan\\_percent\\_income &  2.480857 & 1         & 1.575074 \\\\\n",
       "\tcb\\_person\\_default\\_on\\_file &  1.542492 & 1         & 1.241971 \\\\\n",
       "\tcb\\_person\\_cred\\_hist\\_length &  4.249099 & 1         & 2.061334 \\\\\n",
       "\\end{tabular}\n"
      ],
      "text/markdown": [
       "\n",
       "| <!--/--> | GVIF | Df | GVIF^(1/(2*Df)) |\n",
       "|---|---|---|---|\n",
       "| person_age |  4.313480 | 1         | 2.076892  |\n",
       "| person_income |  1.549668 | 1         | 1.244857  |\n",
       "| person_home_ownership |  1.184225 | 3         | 1.028582  |\n",
       "| person_emp_length |  1.083823 | 1         | 1.041068  |\n",
       "| loan_intent |  1.083541 | 5         | 1.008056  |\n",
       "| loan_grade | 12.808077 | 6         | 1.236774  |\n",
       "| loan_amnt |  2.486671 | 1         | 1.576918  |\n",
       "| loan_int_rate |  9.781644 | 1         | 3.127562  |\n",
       "| loan_percent_income |  2.480857 | 1         | 1.575074  |\n",
       "| cb_person_default_on_file |  1.542492 | 1         | 1.241971  |\n",
       "| cb_person_cred_hist_length |  4.249099 | 1         | 2.061334  |\n",
       "\n"
      ],
      "text/plain": [
       "                           GVIF      Df GVIF^(1/(2*Df))\n",
       "person_age                  4.313480 1  2.076892       \n",
       "person_income               1.549668 1  1.244857       \n",
       "person_home_ownership       1.184225 3  1.028582       \n",
       "person_emp_length           1.083823 1  1.041068       \n",
       "loan_intent                 1.083541 5  1.008056       \n",
       "loan_grade                 12.808077 6  1.236774       \n",
       "loan_amnt                   2.486671 1  1.576918       \n",
       "loan_int_rate               9.781644 1  3.127562       \n",
       "loan_percent_income         2.480857 1  1.575074       \n",
       "cb_person_default_on_file   1.542492 1  1.241971       \n",
       "cb_person_cred_hist_length  4.249099 1  2.061334       "
      ]
     },
     "metadata": {},
     "output_type": "display_data"
    }
   ],
   "source": [
    "# VIF\n",
    "library(car)\n",
    "vif(logit.fit)"
   ]
  },
  {
   "cell_type": "markdown",
   "id": "c92cf76c",
   "metadata": {},
   "source": [
    "The variables overall seem to pass the collinearity test. The variables loan_grade and loan_int_rate demand special attention."
   ]
  },
  {
   "cell_type": "code",
   "execution_count": 14,
   "id": "151922a4",
   "metadata": {},
   "outputs": [
    {
     "data": {
      "text/html": [
       "0.127279626953516"
      ],
      "text/latex": [
       "0.127279626953516"
      ],
      "text/markdown": [
       "0.127279626953516"
      ],
      "text/plain": [
       "[1] 0.1272796"
      ]
     },
     "metadata": {},
     "output_type": "display_data"
    }
   ],
   "source": [
    "# Logistic Regression on a reduced model\n",
    "set.seed(14)\n",
    "logit.fit1 <- glm(loan_status~person_age+person_income+person_home_ownership+person_emp_length+ \n",
    "loan_intent+loan_amnt+loan_percent_income,data = training_data, family=binomial)\n",
    "logit.pred1 <-  predict(logit.fit1, testing_data, type=\"response\")\n",
    "mean((logit.pred1 - testing_data$loan_status)^2)"
   ]
  },
  {
   "cell_type": "markdown",
   "id": "18695e7e",
   "metadata": {},
   "source": [
    "Dropping the insignificant and variables with VIF close to or greater than 10 increases the error rate of the logit model, so I will keep the full model for further analysis."
   ]
  },
  {
   "cell_type": "code",
   "execution_count": 23,
   "id": "47249c6f",
   "metadata": {},
   "outputs": [
    {
     "data": {
      "text/html": [
       "0.0887128670144062"
      ],
      "text/latex": [
       "0.0887128670144062"
      ],
      "text/markdown": [
       "0.0887128670144062"
      ],
      "text/plain": [
       "[1] 0.08871287"
      ]
     },
     "metadata": {},
     "output_type": "display_data"
    }
   ],
   "source": [
    "# KNN\n",
    "options(message=-1)\n",
    "options(warn=-1)\n",
    "library(\"caret\")\n",
    "set.seed(44)\n",
    "trControl <- trainControl(method = \"repeatedcv\", number = 10, repeats = 3)\n",
    "fit.1 <- train(loan_status~.,data = training_data, method = 'knn', tuneLength = 20,\n",
    "       trControl = trControl,preProc = c(\"center\", \"scale\"))\n",
    "pred.1 <- predict(fit.1, newdata = testing_data)\n",
    "mean((pred.1 - testing_data$loan_status)^2)"
   ]
  },
  {
   "cell_type": "markdown",
   "id": "748944af",
   "metadata": {},
   "source": [
    "The error rate yielded by KNN is 8.87%."
   ]
  },
  {
   "cell_type": "code",
   "execution_count": 18,
   "id": "54778dc4",
   "metadata": {},
   "outputs": [
    {
     "data": {
      "image/png": "[encoded data removed]",
      "text/plain": [
       "plot without title"
      ]
     },
     "metadata": {},
     "output_type": "display_data"
    }
   ],
   "source": [
    "plot(fit.1, print.thres = 0.5, type=\"S\")"
   ]
  },
  {
   "cell_type": "code",
   "execution_count": 23,
   "id": "75dd841d",
   "metadata": {},
   "outputs": [
    {
     "data": {
      "text/html": [
       "0.134255378597374"
      ],
      "text/latex": [
       "0.134255378597374"
      ],
      "text/markdown": [
       "0.134255378597374"
      ],
      "text/plain": [
       "[1] 0.1342554"
      ]
     },
     "metadata": {},
     "output_type": "display_data"
    }
   ],
   "source": [
    "# LDA\n",
    "library(MASS)\n",
    "lda.fit <- lda(loan_status∼., data=training_data)\n",
    "lda.pred <- predict(lda.fit, testing_data)$class\n",
    "mean(lda.pred != testing_data$loan_status)"
   ]
  },
  {
   "cell_type": "markdown",
   "id": "57f78fc6",
   "metadata": {},
   "source": [
    "The error rate yielded by linear discriminant analysis is 13.43%."
   ]
  }
 ],
 "metadata": {
  "kernelspec": {
   "display_name": "R",
   "language": "R",
   "name": "ir"
  },
  "language_info": {
   "codemirror_mode": "r",
   "file_extension": ".r",
   "mimetype": "text/x-r-source",
   "name": "R",
   "pygments_lexer": "r",
   "version": "3.6.1"
  }
 },
 "nbformat": 4,
 "nbformat_minor": 5
}
